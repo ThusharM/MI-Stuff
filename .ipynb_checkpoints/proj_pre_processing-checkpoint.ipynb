{
 "cells": [
  {
   "cell_type": "code",
   "execution_count": 1,
   "metadata": {},
   "outputs": [],
   "source": [
    "import pandas as pd\n",
    "from sklearn.model_selection import train_test_split\n",
    "from sklearn import svm \n",
    "import seaborn as sns \n",
    "import matplotlib.pyplot as plt\n",
    "from sklearn.metrics import mean_squared_error\n",
    "import numpy as np\n",
    "from sklearn.naive_bayes import GaussianNB"
   ]
  },
  {
   "cell_type": "code",
   "execution_count": 2,
   "metadata": {},
   "outputs": [],
   "source": [
    "migration = pd.read_csv('migration_nz.csv')"
   ]
  },
  {
   "cell_type": "code",
   "execution_count": 3,
   "metadata": {},
   "outputs": [
    {
     "data": {
      "text/html": [
       "<div>\n",
       "<style scoped>\n",
       "    .dataframe tbody tr th:only-of-type {\n",
       "        vertical-align: middle;\n",
       "    }\n",
       "\n",
       "    .dataframe tbody tr th {\n",
       "        vertical-align: top;\n",
       "    }\n",
       "\n",
       "    .dataframe thead th {\n",
       "        text-align: right;\n",
       "    }\n",
       "</style>\n",
       "<table border=\"1\" class=\"dataframe\">\n",
       "  <thead>\n",
       "    <tr style=\"text-align: right;\">\n",
       "      <th></th>\n",
       "      <th>Measure</th>\n",
       "      <th>Country</th>\n",
       "      <th>Citizenship</th>\n",
       "      <th>Year</th>\n",
       "      <th>Value</th>\n",
       "    </tr>\n",
       "  </thead>\n",
       "  <tbody>\n",
       "    <tr>\n",
       "      <th>0</th>\n",
       "      <td>Arrivals</td>\n",
       "      <td>Oceania</td>\n",
       "      <td>New Zealand Citizen</td>\n",
       "      <td>1979</td>\n",
       "      <td>11817.0</td>\n",
       "    </tr>\n",
       "    <tr>\n",
       "      <th>1</th>\n",
       "      <td>Arrivals</td>\n",
       "      <td>Oceania</td>\n",
       "      <td>Australian Citizen</td>\n",
       "      <td>1979</td>\n",
       "      <td>4436.0</td>\n",
       "    </tr>\n",
       "    <tr>\n",
       "      <th>2</th>\n",
       "      <td>Arrivals</td>\n",
       "      <td>Oceania</td>\n",
       "      <td>Total All Citizenships</td>\n",
       "      <td>1979</td>\n",
       "      <td>19965.0</td>\n",
       "    </tr>\n",
       "    <tr>\n",
       "      <th>3</th>\n",
       "      <td>Arrivals</td>\n",
       "      <td>Antarctica</td>\n",
       "      <td>New Zealand Citizen</td>\n",
       "      <td>1979</td>\n",
       "      <td>10.0</td>\n",
       "    </tr>\n",
       "    <tr>\n",
       "      <th>4</th>\n",
       "      <td>Arrivals</td>\n",
       "      <td>Antarctica</td>\n",
       "      <td>Australian Citizen</td>\n",
       "      <td>1979</td>\n",
       "      <td>0.0</td>\n",
       "    </tr>\n",
       "  </tbody>\n",
       "</table>\n",
       "</div>"
      ],
      "text/plain": [
       "    Measure     Country             Citizenship  Year    Value\n",
       "0  Arrivals     Oceania     New Zealand Citizen  1979  11817.0\n",
       "1  Arrivals     Oceania      Australian Citizen  1979   4436.0\n",
       "2  Arrivals     Oceania  Total All Citizenships  1979  19965.0\n",
       "3  Arrivals  Antarctica     New Zealand Citizen  1979     10.0\n",
       "4  Arrivals  Antarctica      Australian Citizen  1979      0.0"
      ]
     },
     "execution_count": 3,
     "metadata": {},
     "output_type": "execute_result"
    }
   ],
   "source": [
    "# Print the first 5 rows.\n",
    "migration.head(5)"
   ]
  },
  {
   "cell_type": "markdown",
   "metadata": {},
   "source": [
    "This dataset includes the following variables:\n",
    "\n",
    "Measure — The signal type given in this row including “Arrivals”, “Departures”, “Net”.\n",
    "\n",
    "\n",
    "Country — Country from where people arrived into New Zealand (for Measure = “Arrivals”) or to where they left (for Measure = “Departures”). Contains special values “Not Stated” and “All countries” (grand total).\n",
    "\n",
    "\n",
    "Citizenship — Citizenship of the migrants including “New Zealand Citizen”, “Australian Citizen”, “Total All Citizenships”.\n",
    "\n",
    "\n",
    "Year — Year of the measurement (arrival or departure).\n",
    "\n",
    "Value — Number of migrants."
   ]
  },
  {
   "cell_type": "code",
   "execution_count": 4,
   "metadata": {},
   "outputs": [
    {
     "name": "stdout",
     "output_type": "stream",
     "text": [
      "<class 'pandas.core.frame.DataFrame'>\n",
      "RangeIndex: 86526 entries, 0 to 86525\n",
      "Data columns (total 5 columns):\n",
      " #   Column       Non-Null Count  Dtype  \n",
      "---  ------       --------------  -----  \n",
      " 0   Measure      86526 non-null  object \n",
      " 1   Country      86526 non-null  object \n",
      " 2   Citizenship  86526 non-null  object \n",
      " 3   Year         86526 non-null  int64  \n",
      " 4   Value        86454 non-null  float64\n",
      "dtypes: float64(1), int64(1), object(3)\n",
      "memory usage: 3.3+ MB\n"
     ]
    }
   ],
   "source": [
    "# Show information about the data columns.\n",
    "migration.info()"
   ]
  },
  {
   "cell_type": "code",
   "execution_count": 5,
   "metadata": {},
   "outputs": [
    {
     "data": {
      "text/plain": [
       "Measure         0\n",
       "Country         0\n",
       "Citizenship     0\n",
       "Year            0\n",
       "Value          72\n",
       "dtype: int64"
      ]
     },
     "execution_count": 5,
     "metadata": {},
     "output_type": "execute_result"
    }
   ],
   "source": [
    "migration.isna().sum()"
   ]
  },
  {
   "cell_type": "markdown",
   "metadata": {},
   "source": [
    "Value column has 72 fields with null or missing values. We will replace these null values with the median value."
   ]
  },
  {
   "cell_type": "code",
   "execution_count": 6,
   "metadata": {},
   "outputs": [],
   "source": [
    "migration[\"Value\"].fillna(migration[\"Value\"].median(),inplace=True)"
   ]
  },
  {
   "cell_type": "markdown",
   "metadata": {},
   "source": [
    "Check for unique values in the Measure column."
   ]
  },
  {
   "cell_type": "code",
   "execution_count": 7,
   "metadata": {},
   "outputs": [
    {
     "data": {
      "text/plain": [
       "array(['Arrivals', 'Departures', 'Net'], dtype=object)"
      ]
     },
     "execution_count": 7,
     "metadata": {},
     "output_type": "execute_result"
    }
   ],
   "source": [
    "migration['Measure'].unique()"
   ]
  },
  {
   "cell_type": "markdown",
   "metadata": {},
   "source": [
    "We need to translate some categorical data in preparation for running the machine learning model. First we will replace each of the unique string values in the Measure column with an integer value. Arrivals will have a value of 0, Departures will have a value of 1, and Net will have a value of 2."
   ]
  },
  {
   "cell_type": "code",
   "execution_count": 8,
   "metadata": {},
   "outputs": [],
   "source": [
    "migration['Measure'].replace(\"Arrivals\",0,inplace=True)\n",
    "migration['Measure'].replace(\"Departures\",1,inplace=True)\n",
    "migration['Measure'].replace(\"Net\",2,inplace=True)"
   ]
  },
  {
   "cell_type": "markdown",
   "metadata": {},
   "source": [
    "Check for unique values in the Country column."
   ]
  },
  {
   "cell_type": "code",
   "execution_count": 9,
   "metadata": {},
   "outputs": [
    {
     "data": {
      "text/plain": [
       "array(['Oceania', 'Antarctica', 'American Samoa', 'Australia',\n",
       "       'Cocos Islands', 'Cook Islands', 'Christmas Island', 'Fiji',\n",
       "       'Micronesia', 'Guam', 'Kiribati', 'Marshall Islands',\n",
       "       'Northern Mariana Islands', 'New Caledonia', 'Norfolk Island',\n",
       "       'Nauru', 'Niue', 'New Zealand', 'French Polynesia',\n",
       "       'Papua New Guinea', 'Pitcairn Island', 'Palau', 'Solomon Islands',\n",
       "       'French Southern Territories', 'Tokelau', 'Tonga', 'Tuvalu',\n",
       "       'Vanuatu', 'Wallis and Futuna', 'Samoa', 'Asia', 'Afghanistan',\n",
       "       'Armenia', 'Azerbaijan', 'Bangladesh', 'Brunei Darussalam',\n",
       "       'Bhutan', 'China', 'Georgia', 'Hong Kong', 'Indonesia', 'India',\n",
       "       'Japan', 'Kyrgyzstan', 'Cambodia', 'North Korea', 'South Korea',\n",
       "       'Kazakhstan', 'Laos', 'Sri Lanka', 'Myanmar', 'Mongolia', 'Macau',\n",
       "       'Maldives', 'Malaysia', 'Nepal', 'Philippines', 'Pakistan',\n",
       "       'Singapore', 'Thailand', 'Tajikistan', 'Timor-Leste',\n",
       "       'Turkmenistan', 'Taiwan', 'Uzbekistan', 'Vietnam', 'Europe',\n",
       "       'Andorra', 'Albania', 'Austria', 'Bosnia and Herzegovina',\n",
       "       'Belgium', 'Bulgaria', 'Belarus', 'Switzerland', 'Czechoslovakia',\n",
       "       'Cyprus', 'Czechia', 'East Germany', 'Germany', 'Denmark',\n",
       "       'Estonia', 'Spain', 'Finland', 'Faeroe Islands', 'France', 'UK',\n",
       "       'Gibraltar', 'Greenland', 'Greece', 'Croatia', 'Hungary',\n",
       "       'Ireland', 'Iceland', 'Italy', 'Kosovo', 'Liechtenstein',\n",
       "       'Lithuania', 'Luxembourg', 'Latvia', 'Monaco', 'Moldova',\n",
       "       'Montenegro', 'Macedonia', 'Malta', 'Netherlands', 'Norway',\n",
       "       'Poland', 'Portugal', 'Romania', 'Serbia', 'Russia', 'Sweden',\n",
       "       'Slovenia', 'Slovakia', 'San Marino', 'USSR', 'Ukraine',\n",
       "       'Vatican City', 'Yugoslavia/Serbia and Montenegro', 'Americas',\n",
       "       'Antigua and Barbuda', 'Anguilla', 'Netherlands Antilles',\n",
       "       'Argentina', 'Aruba', 'Barbados', 'Bermuda', 'Bolivia', 'Brazil',\n",
       "       'Bahamas', 'Belize', 'Canada', 'Chile', 'Colombia', 'Costa Rica',\n",
       "       'Cuba', 'Curacao', 'Dominica', 'Dominican Republic', 'Ecuador',\n",
       "       'Falkland Islands', 'Grenada', 'French Guiana', 'Guadeloupe',\n",
       "       'South Georgia and the South Sandwich Islands', 'Guatemala',\n",
       "       'Guyana', 'Honduras', 'Haiti', 'Jamaica', 'St Kitts and Nevis',\n",
       "       'Cayman Islands', 'St Lucia', 'Martinique', 'Montserrat', 'Mexico',\n",
       "       'Nicaragua', 'Panama', 'Peru', 'St Pierre and Miquelon',\n",
       "       'Puerto Rico', 'Paraguay', 'Suriname', 'El Salvador', 'St Maarten',\n",
       "       'Turks and Caicos', 'Trinidad and Tobago',\n",
       "       'US Minor Outlying Islands', 'USA', 'Uruguay',\n",
       "       'St Vincent and the Grenadines', 'Venezuela',\n",
       "       'British Virgin Islands', 'US Virgin Islands',\n",
       "       'Africa and the Middle East', 'UAE', 'Angola', 'Burkina Faso',\n",
       "       'Bahrain', 'Burundi', 'Benin', 'Botswana',\n",
       "       'Democratic Republic of the Congo', 'Central African Republic',\n",
       "       'Congo', \"Cote d'Ivoire\", 'Cameroon', 'Cape Verde', 'Djibouti',\n",
       "       'Algeria', 'Egypt', 'Western Sahara', 'Eritrea', 'Ethiopia',\n",
       "       'Gabon', 'Ghana', 'Gambia', 'Guinea', 'Equatorial Guinea',\n",
       "       'Guinea-Bissau', 'Israel', 'British Indian Ocean Territory',\n",
       "       'Iraq', 'Iran', 'Jordan', 'Kenya', 'Comoros', 'Kuwait', 'Lebanon',\n",
       "       'Liberia', 'Lesotho', 'Libya', 'Morocco', 'Madagascar', 'Mali',\n",
       "       'Mauritania', 'Mauritius', 'Malawi', 'Mozambique', 'Namibia',\n",
       "       'Niger', 'Nigeria', 'Oman', 'Palestine', 'Qatar', 'Reunion',\n",
       "       'Rwanda', 'Saudi Arabia', 'Seychelles', 'Sudan', 'St Helena',\n",
       "       'Sierra Leone', 'Senegal', 'Somalia', 'South Sudan',\n",
       "       'Sao Tome and Principe', 'Syria', 'Swaziland', 'Chad', 'Togo',\n",
       "       'Tunisia', 'Turkey', 'Tanzania', 'Uganda', 'South Yemen', 'Yemen',\n",
       "       'Mayotte', 'South Africa', 'Zambia', 'Zimbabwe', 'Not stated',\n",
       "       'All countries'], dtype=object)"
      ]
     },
     "execution_count": 9,
     "metadata": {},
     "output_type": "execute_result"
    }
   ],
   "source": [
    "migration['Country'].unique()\n"
   ]
  },
  {
   "cell_type": "markdown",
   "metadata": {},
   "source": [
    "There are 253 unique countries. We will replace each of the unique string values in the Country column with an integer value. We will use the Pandas factorize method to transform the data from text to numbers."
   ]
  },
  {
   "cell_type": "code",
   "execution_count": 10,
   "metadata": {},
   "outputs": [],
   "source": [
    "migration['Country'] = pd.factorize(migration.Country)[0]"
   ]
  },
  {
   "cell_type": "markdown",
   "metadata": {},
   "source": [
    "Check for unique values in the Citizenship column."
   ]
  },
  {
   "cell_type": "code",
   "execution_count": 11,
   "metadata": {},
   "outputs": [
    {
     "data": {
      "text/plain": [
       "array(['New Zealand Citizen', 'Australian Citizen',\n",
       "       'Total All Citizenships'], dtype=object)"
      ]
     },
     "execution_count": 11,
     "metadata": {},
     "output_type": "execute_result"
    }
   ],
   "source": [
    "migration['Citizenship'].unique()"
   ]
  },
  {
   "cell_type": "markdown",
   "metadata": {},
   "source": [
    "There are 3 unique citizenships. We will replace each of the unique string values in the Citizenship column with an integer value. New Zealand Citizen will have a value of 0, Australian Citizen will have a value of 1, and Total All Citizenships will have a value of 2."
   ]
  },
  {
   "cell_type": "code",
   "execution_count": 12,
   "metadata": {},
   "outputs": [],
   "source": [
    "migration['Citizenship'].replace('New Zealand Citizen',0,inplace=True)\n",
    "migration['Citizenship'].replace('Australian Citizen',1,inplace=True)\n",
    "migration['Citizenship'].replace('Total All Citizenships',2,inplace=True)"
   ]
  },
  {
   "cell_type": "markdown",
   "metadata": {},
   "source": [
    "Visualizing the correlation between variables."
   ]
  },
  {
   "cell_type": "code",
   "execution_count": 13,
   "metadata": {},
   "outputs": [
    {
     "data": {
      "text/plain": [
       "<AxesSubplot:>"
      ]
     },
     "execution_count": 13,
     "metadata": {},
     "output_type": "execute_result"
    },
    {
     "data": {
      "image/png": "[encoded data removed]",
      "text/plain": [
       "<Figure size 720x360 with 2 Axes>"
      ]
     },
     "metadata": {
      "needs_background": "light"
     },
     "output_type": "display_data"
    }
   ],
   "source": [
    "# We will use the Pearson Correlation method.\n",
    "plt.figure(figsize=(10,5)) \n",
    "corr = migration.corr() \n",
    "sns.heatmap(corr, annot=True, cmap='Blues')"
   ]
  },
  {
   "cell_type": "markdown",
   "metadata": {},
   "source": [
    "We will use Measure, Country, Citizenship and Year as the feature variables. We will use Value as the target variable."
   ]
  },
  {
   "cell_type": "markdown",
   "metadata": {},
   "source": [
    "Split the Data into Test and Training Data Sets"
   ]
  },
  {
   "cell_type": "code",
   "execution_count": 21,
   "metadata": {},
   "outputs": [],
   "source": [
    "X = migration[['Country','Measure','Year','Citizenship']]\n",
    "y = migration['Value']"
   ]
  },
  {
   "cell_type": "code",
   "execution_count": 22,
   "metadata": {},
   "outputs": [
    {
     "data": {
      "text/html": [
       "<div>\n",
       "<style scoped>\n",
       "    .dataframe tbody tr th:only-of-type {\n",
       "        vertical-align: middle;\n",
       "    }\n",
       "\n",
       "    .dataframe tbody tr th {\n",
       "        vertical-align: top;\n",
       "    }\n",
       "\n",
       "    .dataframe thead th {\n",
       "        text-align: right;\n",
       "    }\n",
       "</style>\n",
       "<table border=\"1\" class=\"dataframe\">\n",
       "  <thead>\n",
       "    <tr style=\"text-align: right;\">\n",
       "      <th></th>\n",
       "      <th>Measure</th>\n",
       "      <th>Country</th>\n",
       "      <th>Citizenship</th>\n",
       "      <th>Year</th>\n",
       "      <th>Value</th>\n",
       "    </tr>\n",
       "  </thead>\n",
       "  <tbody>\n",
       "    <tr>\n",
       "      <th>0</th>\n",
       "      <td>0</td>\n",
       "      <td>0</td>\n",
       "      <td>0</td>\n",
       "      <td>1979</td>\n",
       "      <td>11817.0</td>\n",
       "    </tr>\n",
       "    <tr>\n",
       "      <th>1</th>\n",
       "      <td>0</td>\n",
       "      <td>0</td>\n",
       "      <td>1</td>\n",
       "      <td>1979</td>\n",
       "      <td>4436.0</td>\n",
       "    </tr>\n",
       "    <tr>\n",
       "      <th>2</th>\n",
       "      <td>0</td>\n",
       "      <td>0</td>\n",
       "      <td>2</td>\n",
       "      <td>1979</td>\n",
       "      <td>19965.0</td>\n",
       "    </tr>\n",
       "    <tr>\n",
       "      <th>3</th>\n",
       "      <td>0</td>\n",
       "      <td>1</td>\n",
       "      <td>0</td>\n",
       "      <td>1979</td>\n",
       "      <td>10.0</td>\n",
       "    </tr>\n",
       "    <tr>\n",
       "      <th>4</th>\n",
       "      <td>0</td>\n",
       "      <td>1</td>\n",
       "      <td>1</td>\n",
       "      <td>1979</td>\n",
       "      <td>0.0</td>\n",
       "    </tr>\n",
       "  </tbody>\n",
       "</table>\n",
       "</div>"
      ],
      "text/plain": [
       "   Measure  Country  Citizenship  Year    Value\n",
       "0        0        0            0  1979  11817.0\n",
       "1        0        0            1  1979   4436.0\n",
       "2        0        0            2  1979  19965.0\n",
       "3        0        1            0  1979     10.0\n",
       "4        0        1            1  1979      0.0"
      ]
     },
     "execution_count": 22,
     "metadata": {},
     "output_type": "execute_result"
    }
   ],
   "source": [
    "migration.head(5)"
   ]
  },
  {
   "cell_type": "code",
   "execution_count": 23,
   "metadata": {},
   "outputs": [],
   "source": [
    "from sklearn.datasets import load_iris"
   ]
  },
  {
   "cell_type": "code",
   "execution_count": 24,
   "metadata": {},
   "outputs": [
    {
     "data": {
      "text/plain": [
       "array([[0, 0, 0, ..., 0, 0, 0],\n",
       "       [0, 0, 0, ..., 0, 0, 0],\n",
       "       [0, 0, 0, ..., 0, 0, 0]], dtype=uint8)"
      ]
     },
     "execution_count": 24,
     "metadata": {},
     "output_type": "execute_result"
    }
   ],
   "source": [
    "y = pd.get_dummies(y).values\n",
    "\n",
    "y[:3]"
   ]
  },
  {
   "cell_type": "code",
   "execution_count": 31,
   "metadata": {},
   "outputs": [],
   "source": [
    "#Split data into train and test data\n",
    "X_train, X_test, y_train, y_test = train_test_split(X, y, test_size=20, random_state=4)"
   ]
  },
  {
   "cell_type": "code",
   "execution_count": 32,
   "metadata": {},
   "outputs": [],
   "source": [
    "# Initialize variables\n",
    "learning_rate = 0.1\n",
    "iterations = 5000\n",
    "N = y_train.size\n",
    "\n",
    "# number of input features\n",
    "input_size = 4\n",
    "\n",
    "# number of hidden layers neurons\n",
    "hidden_size = 2 \n",
    "\n",
    "# number of neurons at the output layer\n",
    "output_size = 3  \n",
    "\n",
    "results = pd.DataFrame(columns=[\"mse\", \"accuracy\"])"
   ]
  },
  {
   "cell_type": "code",
   "execution_count": 33,
   "metadata": {},
   "outputs": [],
   "source": [
    "# Initialize weights\n",
    "np.random.seed(10)\n",
    "\n",
    "# initializing weight for the hidden layer\n",
    "W1 = np.random.normal(scale=0.5, size=(input_size, hidden_size))   \n",
    "\n",
    "# initializing weight for the output layer\n",
    "W2 = np.random.normal(scale=0.5, size=(hidden_size , output_size)) "
   ]
  },
  {
   "cell_type": "code",
   "execution_count": 34,
   "metadata": {},
   "outputs": [],
   "source": [
    "def sigmoid(x):\n",
    "    return 1 / (1 + np.exp(-x))\n",
    "\n",
    "def mean_squared_error(y_pred, y_true):\n",
    "    return ((y_pred - y_true)**2).sum() / (2*y_pred.size)\n",
    "    \n",
    "def accuracy(y_pred, y_true):\n",
    "    acc = y_pred.argmax(axis=1) == y_true.argmax(axis=1)\n",
    "    return acc.mean()"
   ]
  },
  {
   "cell_type": "code",
   "execution_count": 37,
   "metadata": {},
   "outputs": [
    {
     "name": "stderr",
     "output_type": "stream",
     "text": [
      "<ipython-input-34-051ab1557158>:2: RuntimeWarning: overflow encountered in exp\n",
      "  return 1 / (1 + np.exp(-x))\n"
     ]
    },
    {
     "ename": "ValueError",
     "evalue": "operands could not be broadcast together with shapes (86506,3) (86506,3670) ",
     "output_type": "error",
     "traceback": [
      "\u001b[1;31m---------------------------------------------------------------------------\u001b[0m",
      "\u001b[1;31mValueError\u001b[0m                                Traceback (most recent call last)",
      "\u001b[1;32m<ipython-input-37-9b53b505cc00>\u001b[0m in \u001b[0;36m<module>\u001b[1;34m\u001b[0m\n\u001b[0;32m     12\u001b[0m \u001b[1;33m\u001b[0m\u001b[0m\n\u001b[0;32m     13\u001b[0m     \u001b[1;31m# Calculating error\u001b[0m\u001b[1;33m\u001b[0m\u001b[1;33m\u001b[0m\u001b[1;33m\u001b[0m\u001b[0m\n\u001b[1;32m---> 14\u001b[1;33m     \u001b[0mmse\u001b[0m \u001b[1;33m=\u001b[0m \u001b[0mmean_squared_error\u001b[0m\u001b[1;33m(\u001b[0m\u001b[0mA2\u001b[0m\u001b[1;33m,\u001b[0m \u001b[0my_train\u001b[0m\u001b[1;33m)\u001b[0m\u001b[1;33m\u001b[0m\u001b[1;33m\u001b[0m\u001b[0m\n\u001b[0m\u001b[0;32m     15\u001b[0m     \u001b[0macc\u001b[0m \u001b[1;33m=\u001b[0m \u001b[0maccuracy\u001b[0m\u001b[1;33m(\u001b[0m\u001b[0mA2\u001b[0m\u001b[1;33m,\u001b[0m \u001b[0my_train\u001b[0m\u001b[1;33m)\u001b[0m\u001b[1;33m\u001b[0m\u001b[1;33m\u001b[0m\u001b[0m\n\u001b[0;32m     16\u001b[0m     \u001b[0mresults\u001b[0m\u001b[1;33m=\u001b[0m\u001b[0mresults\u001b[0m\u001b[1;33m.\u001b[0m\u001b[0mappend\u001b[0m\u001b[1;33m(\u001b[0m\u001b[1;33m{\u001b[0m\u001b[1;34m\"mse\"\u001b[0m\u001b[1;33m:\u001b[0m\u001b[0mmse\u001b[0m\u001b[1;33m,\u001b[0m \u001b[1;34m\"accuracy\"\u001b[0m\u001b[1;33m:\u001b[0m\u001b[0macc\u001b[0m\u001b[1;33m}\u001b[0m\u001b[1;33m,\u001b[0m\u001b[0mignore_index\u001b[0m\u001b[1;33m=\u001b[0m\u001b[1;32mTrue\u001b[0m \u001b[1;33m)\u001b[0m\u001b[1;33m\u001b[0m\u001b[1;33m\u001b[0m\u001b[0m\n",
      "\u001b[1;32m<ipython-input-34-051ab1557158>\u001b[0m in \u001b[0;36mmean_squared_error\u001b[1;34m(y_pred, y_true)\u001b[0m\n\u001b[0;32m      3\u001b[0m \u001b[1;33m\u001b[0m\u001b[0m\n\u001b[0;32m      4\u001b[0m \u001b[1;32mdef\u001b[0m \u001b[0mmean_squared_error\u001b[0m\u001b[1;33m(\u001b[0m\u001b[0my_pred\u001b[0m\u001b[1;33m,\u001b[0m \u001b[0my_true\u001b[0m\u001b[1;33m)\u001b[0m\u001b[1;33m:\u001b[0m\u001b[1;33m\u001b[0m\u001b[1;33m\u001b[0m\u001b[0m\n\u001b[1;32m----> 5\u001b[1;33m     \u001b[1;32mreturn\u001b[0m \u001b[1;33m(\u001b[0m\u001b[1;33m(\u001b[0m\u001b[0my_pred\u001b[0m \u001b[1;33m-\u001b[0m \u001b[0my_true\u001b[0m\u001b[1;33m)\u001b[0m\u001b[1;33m**\u001b[0m\u001b[1;36m2\u001b[0m\u001b[1;33m)\u001b[0m\u001b[1;33m.\u001b[0m\u001b[0msum\u001b[0m\u001b[1;33m(\u001b[0m\u001b[1;33m)\u001b[0m \u001b[1;33m/\u001b[0m \u001b[1;33m(\u001b[0m\u001b[1;36m2\u001b[0m\u001b[1;33m*\u001b[0m\u001b[0my_pred\u001b[0m\u001b[1;33m.\u001b[0m\u001b[0msize\u001b[0m\u001b[1;33m)\u001b[0m\u001b[1;33m\u001b[0m\u001b[1;33m\u001b[0m\u001b[0m\n\u001b[0m\u001b[0;32m      6\u001b[0m \u001b[1;33m\u001b[0m\u001b[0m\n\u001b[0;32m      7\u001b[0m \u001b[1;32mdef\u001b[0m \u001b[0maccuracy\u001b[0m\u001b[1;33m(\u001b[0m\u001b[0my_pred\u001b[0m\u001b[1;33m,\u001b[0m \u001b[0my_true\u001b[0m\u001b[1;33m)\u001b[0m\u001b[1;33m:\u001b[0m\u001b[1;33m\u001b[0m\u001b[1;33m\u001b[0m\u001b[0m\n",
      "\u001b[1;31mValueError\u001b[0m: operands could not be broadcast together with shapes (86506,3) (86506,3670) "
     ]
    }
   ],
   "source": [
    "for itr in range(iterations):    \n",
    "    \n",
    "    # feedforward propagation\n",
    "    # on hidden layer\n",
    "    Z1 = np.dot(X_train, W1)\n",
    "    A1 = sigmoid(Z1)\n",
    "\n",
    "    # on output layer\n",
    "    Z2 = np.dot(A1, W2)\n",
    "    A2 = sigmoid(Z2)\n",
    "    \n",
    "    \n",
    "    # Calculating error\n",
    "    mse = mean_squared_error(A2, y_train)\n",
    "    acc = accuracy(A2, y_train)\n",
    "    results=results.append({\"mse\":mse, \"accuracy\":acc},ignore_index=True )\n",
    "    \n",
    "    # backpropagation\n",
    "    E1 = A2 - y_train\n",
    "    dW1 = E1 * A2 * (1 - A2)\n",
    "\n",
    "    E2 = np.dot(dW1, W2.T)\n",
    "    dW2 = E2 * A1 * (1 - A1)\n",
    "\n",
    "    \n",
    "    # weight updates\n",
    "    W2_update = np.dot(A1.T, dW1) / N\n",
    "    W1_update = np.dot(X_train.T, dW2) / N\n",
    "\n",
    "    W2 = W2 - learning_rate * W2_update\n",
    "    W1 = W1 - learning_rate * W1_update"
   ]
  },
  {
   "cell_type": "code",
   "execution_count": 50,
   "metadata": {},
   "outputs": [
    {
     "data": {
      "text/plain": [
       "<AxesSubplot:>"
      ]
     },
     "execution_count": 50,
     "metadata": {},
     "output_type": "execute_result"
    },
    {
     "data": {
      "image/png": "[encoded data removed]",
      "text/plain": [
       "<Figure size 864x432 with 1 Axes>"
      ]
     },
     "metadata": {
      "needs_background": "light"
     },
     "output_type": "display_data"
    }
   ],
   "source": [
    "migration.plot(figsize=(12,6))"
   ]
  },
  {
   "cell_type": "code",
   "execution_count": 51,
   "metadata": {},
   "outputs": [],
   "source": [
    "from statsmodels.tsa.seasonal import seasonal_decompose"
   ]
  },
  {
   "cell_type": "code",
   "execution_count": 52,
   "metadata": {},
   "outputs": [
    {
     "data": {
      "image/png": "[encoded data removed]",
      "text/plain": [
       "<Figure size 432x288 with 4 Axes>"
      ]
     },
     "execution_count": 52,
     "metadata": {},
     "output_type": "execute_result"
    },
    {
     "data": {
      "image/png": "[encoded data removed]",
      "text/plain": [
       "<Figure size 432x288 with 4 Axes>"
      ]
     },
     "metadata": {
      "needs_background": "light"
     },
     "output_type": "display_data"
    }
   ],
   "source": [
    "results = seasonal_decompose(migration['Value'],period=12)\n",
    "results.plot()"
   ]
  },
  {
   "cell_type": "code",
   "execution_count": 70,
   "metadata": {},
   "outputs": [
    {
     "data": {
      "text/plain": [
       "1000"
      ]
     },
     "execution_count": 70,
     "metadata": {},
     "output_type": "execute_result"
    }
   ],
   "source": [
    "migration = migration.tail(1000)\n",
    "len(migration)"
   ]
  },
  {
   "cell_type": "code",
   "execution_count": 72,
   "metadata": {},
   "outputs": [],
   "source": [
    "train = migration.iloc[:760]\n",
    "test = migration.iloc[760:]"
   ]
  },
  {
   "cell_type": "code",
   "execution_count": 73,
   "metadata": {},
   "outputs": [],
   "source": [
    "from sklearn.preprocessing import MinMaxScaler\n",
    "scaler = MinMaxScaler()"
   ]
  },
  {
   "cell_type": "code",
   "execution_count": 74,
   "metadata": {},
   "outputs": [],
   "source": [
    "scaler.fit(train)\n",
    "scaled_train = scaler.transform(train)\n",
    "scaled_test = scaler.transform(test)"
   ]
  },
  {
   "cell_type": "code",
   "execution_count": 75,
   "metadata": {},
   "outputs": [
    {
     "data": {
      "text/plain": [
       "array([[0.06385964],\n",
       "       [0.06387614],\n",
       "       [0.06390915],\n",
       "       [0.06385964],\n",
       "       [0.06390915],\n",
       "       [0.06385964],\n",
       "       [0.06385964],\n",
       "       [0.06385964],\n",
       "       [0.07288813],\n",
       "       [0.06407421]])"
      ]
     },
     "execution_count": 75,
     "metadata": {},
     "output_type": "execute_result"
    }
   ],
   "source": [
    "scaled_train[:10]"
   ]
  },
  {
   "cell_type": "code",
   "execution_count": 76,
   "metadata": {},
   "outputs": [],
   "source": [
    "from keras.preprocessing.sequence import TimeseriesGenerator"
   ]
  },
  {
   "cell_type": "code",
   "execution_count": 77,
   "metadata": {},
   "outputs": [],
   "source": [
    "# define generator\n",
    "n_input = 3\n",
    "n_features = 1\n",
    "generator = TimeseriesGenerator(scaled_train, scaled_train, length=n_input, batch_size=1)"
   ]
  },
  {
   "cell_type": "code",
   "execution_count": 78,
   "metadata": {},
   "outputs": [
    {
     "name": "stdout",
     "output_type": "stream",
     "text": [
      "Given the Array: \n",
      "[0.06385964 0.06387614 0.06390915]\n",
      "Predict this y: \n",
      " [[0.06385964]]\n"
     ]
    }
   ],
   "source": [
    "X,y = generator[0]\n",
    "print(f'Given the Array: \\n{X.flatten()}')\n",
    "print(f'Predict this y: \\n {y}')"
   ]
  },
  {
   "cell_type": "code",
   "execution_count": 79,
   "metadata": {},
   "outputs": [
    {
     "data": {
      "text/plain": [
       "(1, 3, 1)"
      ]
     },
     "execution_count": 79,
     "metadata": {},
     "output_type": "execute_result"
    }
   ],
   "source": [
    "X.shape"
   ]
  },
  {
   "cell_type": "code",
   "execution_count": 80,
   "metadata": {},
   "outputs": [],
   "source": [
    "# We do the same thing, but now instead for 12 mo\n",
    "n_input = 12\n",
    "generator = TimeseriesGenerator(scaled_train, scaled_train, length=n_input, batch_size=1)"
   ]
  },
  {
   "cell_type": "code",
   "execution_count": 81,
   "metadata": {},
   "outputs": [],
   "source": [
    "from keras.models import Sequential\n",
    "from keras.layers import Dense\n",
    "from keras.layers import LSTM"
   ]
  },
  {
   "cell_type": "code",
   "execution_count": 82,
   "metadata": {},
   "outputs": [],
   "source": [
    "# define model\n",
    "model = Sequential()\n",
    "model.add(LSTM(100, activation='relu', input_shape=(n_input, n_features)))\n",
    "model.add(Dense(1))\n",
    "model.compile(optimizer='adam', loss='mse')"
   ]
  },
  {
   "cell_type": "code",
   "execution_count": 83,
   "metadata": {},
   "outputs": [
    {
     "name": "stdout",
     "output_type": "stream",
     "text": [
      "Model: \"sequential_1\"\n",
      "_________________________________________________________________\n",
      " Layer (type)                Output Shape              Param #   \n",
      "=================================================================\n",
      " lstm_1 (LSTM)               (None, 100)               40800     \n",
      "                                                                 \n",
      " dense_1 (Dense)             (None, 1)                 101       \n",
      "                                                                 \n",
      "=================================================================\n",
      "Total params: 40,901\n",
      "Trainable params: 40,901\n",
      "Non-trainable params: 0\n",
      "_________________________________________________________________\n"
     ]
    }
   ],
   "source": [
    "model.summary()"
   ]
  },
  {
   "cell_type": "code",
   "execution_count": 86,
   "metadata": {},
   "outputs": [
    {
     "name": "stdout",
     "output_type": "stream",
     "text": [
      "Epoch 1/10\n",
      "748/748 [==============================] - 4s 5ms/step - loss: 0.0022\n",
      "Epoch 2/10\n",
      "748/748 [==============================] - 4s 5ms/step - loss: 0.0022\n",
      "Epoch 3/10\n",
      "748/748 [==============================] - 4s 5ms/step - loss: 0.0021\n",
      "Epoch 4/10\n",
      "748/748 [==============================] - 4s 5ms/step - loss: 0.0021\n",
      "Epoch 5/10\n",
      "748/748 [==============================] - 3s 5ms/step - loss: 0.0022\n",
      "Epoch 6/10\n",
      "748/748 [==============================] - 3s 5ms/step - loss: 0.0021\n",
      "Epoch 7/10\n",
      "748/748 [==============================] - 3s 5ms/step - loss: 0.0020\n",
      "Epoch 8/10\n",
      "748/748 [==============================] - 3s 5ms/step - loss: 0.0021\n",
      "Epoch 9/10\n",
      "748/748 [==============================] - 3s 5ms/step - loss: 0.0020\n",
      "Epoch 10/10\n",
      "748/748 [==============================] - 3s 5ms/step - loss: 0.0020\n"
     ]
    },
    {
     "data": {
      "text/plain": [
       "<keras.callbacks.History at 0x2257ee060d0>"
      ]
     },
     "execution_count": 86,
     "metadata": {},
     "output_type": "execute_result"
    }
   ],
   "source": [
    "# fit model\n",
    "model.fit(generator,epochs=10)"
   ]
  },
  {
   "cell_type": "code",
   "execution_count": 87,
   "metadata": {},
   "outputs": [
    {
     "data": {
      "text/plain": [
       "[<matplotlib.lines.Line2D at 0x225820321c0>]"
      ]
     },
     "execution_count": 87,
     "metadata": {},
     "output_type": "execute_result"
    },
    {
     "data": {
      "image/png": "[encoded data removed]",
      "text/plain": [
       "<Figure size 432x288 with 1 Axes>"
      ]
     },
     "metadata": {
      "needs_background": "light"
     },
     "output_type": "display_data"
    }
   ],
   "source": [
    "loss_per_epoch = model.history.history['loss']\n",
    "plt.plot(range(len(loss_per_epoch)),loss_per_epoch)"
   ]
  },
  {
   "cell_type": "code",
   "execution_count": 88,
   "metadata": {},
   "outputs": [],
   "source": [
    "last_train_batch = scaled_train[-12:]"
   ]
  },
  {
   "cell_type": "code",
   "execution_count": 89,
   "metadata": {},
   "outputs": [],
   "source": [
    "last_train_batch = last_train_batch.reshape((1, n_input, n_features))"
   ]
  },
  {
   "cell_type": "code",
   "execution_count": 90,
   "metadata": {},
   "outputs": [
    {
     "name": "stdout",
     "output_type": "stream",
     "text": [
      "1/1 [==============================] - 0s 302ms/step\n"
     ]
    },
    {
     "data": {
      "text/plain": [
       "array([[0.06367774]], dtype=float32)"
      ]
     },
     "execution_count": 90,
     "metadata": {},
     "output_type": "execute_result"
    }
   ],
   "source": [
    "model.predict(last_train_batch)"
   ]
  },
  {
   "cell_type": "code",
   "execution_count": 91,
   "metadata": {},
   "outputs": [
    {
     "data": {
      "text/plain": [
       "array([0.06381012])"
      ]
     },
     "execution_count": 91,
     "metadata": {},
     "output_type": "execute_result"
    }
   ],
   "source": [
    "scaled_test[0]"
   ]
  },
  {
   "cell_type": "code",
   "execution_count": 92,
   "metadata": {},
   "outputs": [
    {
     "name": "stdout",
     "output_type": "stream",
     "text": [
      "1/1 [==============================] - 0s 40ms/step\n",
      "1/1 [==============================] - 0s 38ms/step\n",
      "1/1 [==============================] - 0s 32ms/step\n",
      "1/1 [==============================] - 0s 38ms/step\n",
      "1/1 [==============================] - 0s 35ms/step\n",
      "1/1 [==============================] - 0s 36ms/step\n",
      "1/1 [==============================] - 0s 31ms/step\n",
      "1/1 [==============================] - 0s 29ms/step\n",
      "1/1 [==============================] - 0s 37ms/step\n",
      "1/1 [==============================] - 0s 36ms/step\n",
      "1/1 [==============================] - 0s 35ms/step\n",
      "1/1 [==============================] - 0s 30ms/step\n",
      "1/1 [==============================] - 0s 26ms/step\n",
      "1/1 [==============================] - 0s 28ms/step\n",
      "1/1 [==============================] - 0s 28ms/step\n",
      "1/1 [==============================] - 0s 31ms/step\n",
      "1/1 [==============================] - 0s 26ms/step\n",
      "1/1 [==============================] - 0s 30ms/step\n",
      "1/1 [==============================] - 0s 32ms/step\n",
      "1/1 [==============================] - 0s 27ms/step\n",
      "1/1 [==============================] - 0s 25ms/step\n",
      "1/1 [==============================] - 0s 28ms/step\n",
      "1/1 [==============================] - 0s 26ms/step\n",
      "1/1 [==============================] - 0s 26ms/step\n",
      "1/1 [==============================] - 0s 30ms/step\n",
      "1/1 [==============================] - 0s 38ms/step\n",
      "1/1 [==============================] - 0s 32ms/step\n",
      "1/1 [==============================] - 0s 41ms/step\n",
      "1/1 [==============================] - 0s 37ms/step\n",
      "1/1 [==============================] - 0s 38ms/step\n",
      "1/1 [==============================] - 0s 23ms/step\n",
      "1/1 [==============================] - 0s 25ms/step\n",
      "1/1 [==============================] - 0s 29ms/step\n",
      "1/1 [==============================] - 0s 22ms/step\n",
      "1/1 [==============================] - 0s 27ms/step\n",
      "1/1 [==============================] - 0s 28ms/step\n",
      "1/1 [==============================] - 0s 32ms/step\n",
      "1/1 [==============================] - 0s 25ms/step\n",
      "1/1 [==============================] - 0s 29ms/step\n",
      "1/1 [==============================] - 0s 24ms/step\n",
      "1/1 [==============================] - 0s 24ms/step\n",
      "1/1 [==============================] - 0s 22ms/step\n",
      "1/1 [==============================] - 0s 25ms/step\n",
      "1/1 [==============================] - 0s 29ms/step\n",
      "1/1 [==============================] - 0s 21ms/step\n",
      "1/1 [==============================] - 0s 24ms/step\n",
      "1/1 [==============================] - 0s 26ms/step\n",
      "1/1 [==============================] - 0s 34ms/step\n",
      "1/1 [==============================] - 0s 37ms/step\n",
      "1/1 [==============================] - 0s 34ms/step\n",
      "1/1 [==============================] - 0s 29ms/step\n",
      "1/1 [==============================] - 0s 26ms/step\n",
      "1/1 [==============================] - 0s 33ms/step\n",
      "1/1 [==============================] - 0s 36ms/step\n",
      "1/1 [==============================] - 0s 29ms/step\n",
      "1/1 [==============================] - 0s 22ms/step\n",
      "1/1 [==============================] - 0s 27ms/step\n",
      "1/1 [==============================] - 0s 31ms/step\n",
      "1/1 [==============================] - 0s 22ms/step\n",
      "1/1 [==============================] - 0s 28ms/step\n",
      "1/1 [==============================] - 0s 23ms/step\n",
      "1/1 [==============================] - 0s 23ms/step\n",
      "1/1 [==============================] - 0s 23ms/step\n",
      "1/1 [==============================] - 0s 26ms/step\n",
      "1/1 [==============================] - 0s 45ms/step\n",
      "1/1 [==============================] - 0s 33ms/step\n",
      "1/1 [==============================] - 0s 33ms/step\n",
      "1/1 [==============================] - 0s 47ms/step\n",
      "1/1 [==============================] - 0s 29ms/step\n",
      "1/1 [==============================] - 0s 23ms/step\n",
      "1/1 [==============================] - 0s 26ms/step\n",
      "1/1 [==============================] - 0s 40ms/step\n",
      "1/1 [==============================] - 0s 40ms/step\n",
      "1/1 [==============================] - 0s 36ms/step\n",
      "1/1 [==============================] - 0s 25ms/step\n",
      "1/1 [==============================] - 0s 26ms/step\n",
      "1/1 [==============================] - 0s 36ms/step\n",
      "1/1 [==============================] - 0s 25ms/step\n",
      "1/1 [==============================] - 0s 19ms/step\n",
      "1/1 [==============================] - 0s 35ms/step\n",
      "1/1 [==============================] - 0s 26ms/step\n",
      "1/1 [==============================] - 0s 27ms/step\n",
      "1/1 [==============================] - 0s 32ms/step\n",
      "1/1 [==============================] - 0s 32ms/step\n",
      "1/1 [==============================] - 0s 24ms/step\n",
      "1/1 [==============================] - 0s 25ms/step\n",
      "1/1 [==============================] - 0s 25ms/step\n",
      "1/1 [==============================] - 0s 26ms/step\n",
      "1/1 [==============================] - 0s 29ms/step\n",
      "1/1 [==============================] - 0s 32ms/step\n",
      "1/1 [==============================] - 0s 34ms/step\n",
      "1/1 [==============================] - 0s 32ms/step\n",
      "1/1 [==============================] - 0s 28ms/step\n",
      "1/1 [==============================] - 0s 32ms/step\n",
      "1/1 [==============================] - 0s 22ms/step\n",
      "1/1 [==============================] - 0s 28ms/step\n",
      "1/1 [==============================] - 0s 29ms/step\n",
      "1/1 [==============================] - 0s 27ms/step\n",
      "1/1 [==============================] - 0s 41ms/step\n",
      "1/1 [==============================] - 0s 31ms/step\n",
      "1/1 [==============================] - 0s 44ms/step\n",
      "1/1 [==============================] - 0s 39ms/step\n",
      "1/1 [==============================] - 0s 29ms/step\n",
      "1/1 [==============================] - 0s 38ms/step\n",
      "1/1 [==============================] - 0s 35ms/step\n",
      "1/1 [==============================] - 0s 24ms/step\n",
      "1/1 [==============================] - 0s 26ms/step\n",
      "1/1 [==============================] - 0s 31ms/step\n",
      "1/1 [==============================] - 0s 31ms/step\n",
      "1/1 [==============================] - 0s 25ms/step\n",
      "1/1 [==============================] - 0s 30ms/step\n",
      "1/1 [==============================] - 0s 24ms/step\n",
      "1/1 [==============================] - 0s 35ms/step\n",
      "1/1 [==============================] - 0s 26ms/step\n",
      "1/1 [==============================] - 0s 25ms/step\n",
      "1/1 [==============================] - 0s 25ms/step\n",
      "1/1 [==============================] - 0s 35ms/step\n",
      "1/1 [==============================] - 0s 42ms/step\n",
      "1/1 [==============================] - 0s 55ms/step\n",
      "1/1 [==============================] - 0s 21ms/step\n",
      "1/1 [==============================] - 0s 24ms/step\n",
      "1/1 [==============================] - 0s 28ms/step\n",
      "1/1 [==============================] - 0s 29ms/step\n",
      "1/1 [==============================] - 0s 40ms/step\n",
      "1/1 [==============================] - 0s 28ms/step\n",
      "1/1 [==============================] - 0s 24ms/step\n",
      "1/1 [==============================] - 0s 22ms/step\n",
      "1/1 [==============================] - 0s 26ms/step\n",
      "1/1 [==============================] - 0s 29ms/step\n",
      "1/1 [==============================] - 0s 26ms/step\n",
      "1/1 [==============================] - 0s 31ms/step\n",
      "1/1 [==============================] - 0s 36ms/step\n",
      "1/1 [==============================] - 0s 34ms/step\n",
      "1/1 [==============================] - 0s 41ms/step\n",
      "1/1 [==============================] - 0s 22ms/step\n",
      "1/1 [==============================] - 0s 34ms/step\n",
      "1/1 [==============================] - 0s 32ms/step\n",
      "1/1 [==============================] - 0s 29ms/step\n",
      "1/1 [==============================] - 0s 32ms/step\n",
      "1/1 [==============================] - 0s 31ms/step\n",
      "1/1 [==============================] - 0s 26ms/step\n",
      "1/1 [==============================] - 0s 32ms/step\n",
      "1/1 [==============================] - 0s 24ms/step\n",
      "1/1 [==============================] - 0s 24ms/step\n",
      "1/1 [==============================] - 0s 30ms/step\n",
      "1/1 [==============================] - 0s 20ms/step\n",
      "1/1 [==============================] - 0s 25ms/step\n",
      "1/1 [==============================] - 0s 31ms/step\n",
      "1/1 [==============================] - 0s 38ms/step\n",
      "1/1 [==============================] - 0s 51ms/step\n",
      "1/1 [==============================] - 0s 20ms/step\n",
      "1/1 [==============================] - 0s 30ms/step\n",
      "1/1 [==============================] - 0s 24ms/step\n",
      "1/1 [==============================] - 0s 25ms/step\n",
      "1/1 [==============================] - 0s 29ms/step\n",
      "1/1 [==============================] - 0s 31ms/step\n",
      "1/1 [==============================] - 0s 28ms/step\n",
      "1/1 [==============================] - 0s 24ms/step\n",
      "1/1 [==============================] - 0s 26ms/step\n",
      "1/1 [==============================] - 0s 22ms/step\n",
      "1/1 [==============================] - 0s 25ms/step\n",
      "1/1 [==============================] - 0s 23ms/step\n",
      "1/1 [==============================] - 0s 25ms/step\n",
      "1/1 [==============================] - 0s 30ms/step\n",
      "1/1 [==============================] - 0s 29ms/step\n",
      "1/1 [==============================] - 0s 23ms/step\n",
      "1/1 [==============================] - 0s 32ms/step\n",
      "1/1 [==============================] - 0s 42ms/step\n",
      "1/1 [==============================] - 0s 38ms/step\n",
      "1/1 [==============================] - 0s 44ms/step\n",
      "1/1 [==============================] - 0s 36ms/step\n",
      "1/1 [==============================] - 0s 25ms/step\n",
      "1/1 [==============================] - 0s 29ms/step\n",
      "1/1 [==============================] - 0s 30ms/step\n",
      "1/1 [==============================] - 0s 32ms/step\n",
      "1/1 [==============================] - 0s 27ms/step\n",
      "1/1 [==============================] - 0s 24ms/step\n",
      "1/1 [==============================] - 0s 25ms/step\n",
      "1/1 [==============================] - 0s 23ms/step\n",
      "1/1 [==============================] - 0s 30ms/step\n",
      "1/1 [==============================] - 0s 22ms/step\n",
      "1/1 [==============================] - 0s 37ms/step\n",
      "1/1 [==============================] - 0s 31ms/step\n",
      "1/1 [==============================] - 0s 35ms/step\n",
      "1/1 [==============================] - 0s 41ms/step\n",
      "1/1 [==============================] - 0s 24ms/step\n",
      "1/1 [==============================] - 0s 22ms/step\n",
      "1/1 [==============================] - 0s 22ms/step\n",
      "1/1 [==============================] - 0s 32ms/step\n",
      "1/1 [==============================] - 0s 25ms/step\n",
      "1/1 [==============================] - 0s 37ms/step\n",
      "1/1 [==============================] - 0s 29ms/step\n",
      "1/1 [==============================] - 0s 25ms/step\n",
      "1/1 [==============================] - 0s 26ms/step\n",
      "1/1 [==============================] - 0s 27ms/step\n",
      "1/1 [==============================] - 0s 25ms/step\n",
      "1/1 [==============================] - 0s 27ms/step\n",
      "1/1 [==============================] - 0s 20ms/step\n",
      "1/1 [==============================] - 0s 27ms/step\n",
      "1/1 [==============================] - 0s 25ms/step\n",
      "1/1 [==============================] - 0s 23ms/step\n",
      "1/1 [==============================] - 0s 24ms/step\n",
      "1/1 [==============================] - 0s 35ms/step\n",
      "1/1 [==============================] - 0s 35ms/step\n",
      "1/1 [==============================] - 0s 26ms/step\n",
      "1/1 [==============================] - 0s 22ms/step\n",
      "1/1 [==============================] - 0s 31ms/step\n",
      "1/1 [==============================] - 0s 27ms/step\n",
      "1/1 [==============================] - 0s 25ms/step\n",
      "1/1 [==============================] - 0s 26ms/step\n",
      "1/1 [==============================] - 0s 29ms/step\n",
      "1/1 [==============================] - 0s 25ms/step\n",
      "1/1 [==============================] - 0s 21ms/step\n",
      "1/1 [==============================] - 0s 25ms/step\n",
      "1/1 [==============================] - 0s 27ms/step\n",
      "1/1 [==============================] - 0s 21ms/step\n",
      "1/1 [==============================] - 0s 24ms/step\n",
      "1/1 [==============================] - 0s 36ms/step\n",
      "1/1 [==============================] - 0s 28ms/step\n",
      "1/1 [==============================] - 0s 32ms/step\n",
      "1/1 [==============================] - 0s 27ms/step\n",
      "1/1 [==============================] - 0s 23ms/step\n",
      "1/1 [==============================] - 0s 28ms/step\n",
      "1/1 [==============================] - 0s 30ms/step\n",
      "1/1 [==============================] - 0s 40ms/step\n",
      "1/1 [==============================] - 0s 32ms/step\n",
      "1/1 [==============================] - 0s 32ms/step\n",
      "1/1 [==============================] - 0s 25ms/step\n",
      "1/1 [==============================] - 0s 28ms/step\n",
      "1/1 [==============================] - 0s 23ms/step\n",
      "1/1 [==============================] - 0s 28ms/step\n",
      "1/1 [==============================] - 0s 27ms/step\n",
      "1/1 [==============================] - 0s 36ms/step\n",
      "1/1 [==============================] - 0s 35ms/step\n",
      "1/1 [==============================] - 0s 36ms/step\n",
      "1/1 [==============================] - 0s 35ms/step\n",
      "1/1 [==============================] - 0s 36ms/step\n",
      "1/1 [==============================] - 0s 28ms/step\n",
      "1/1 [==============================] - 0s 29ms/step\n",
      "1/1 [==============================] - 0s 21ms/step\n"
     ]
    }
   ],
   "source": [
    "test_predictions = []\n",
    "\n",
    "first_eval_batch = scaled_train[-n_input:]\n",
    "current_batch = first_eval_batch.reshape((1, n_input, n_features))\n",
    "\n",
    "for i in range(len(test)):\n",
    "    \n",
    "    # get the prediction value for the first batch\n",
    "    current_pred = model.predict(current_batch)[0]\n",
    "    \n",
    "    # append the prediction into the array\n",
    "    test_predictions.append(current_pred) \n",
    "    \n",
    "    # use the prediction to update the batch and remove the first value\n",
    "    current_batch = np.append(current_batch[:,1:,:],[[current_pred]],axis=1)"
   ]
  },
  {
   "cell_type": "code",
   "execution_count": 93,
   "metadata": {},
   "outputs": [
    {
     "data": {
      "text/plain": [
       "[array([0.06367774], dtype=float32),\n",
       " array([0.06371801], dtype=float32),\n",
       " array([0.06368531], dtype=float32),\n",
       " array([0.06366208], dtype=float32),\n",
       " array([0.06366305], dtype=float32),\n",
       " array([0.063668], dtype=float32),\n",
       " array([0.06367003], dtype=float32),\n",
       " array([0.06367127], dtype=float32),\n",
       " array([0.06367224], dtype=float32),\n",
       " array([0.0636727], dtype=float32),\n",
       " array([0.06367286], dtype=float32),\n",
       " array([0.06367313], dtype=float32),\n",
       " array([0.06367298], dtype=float32),\n",
       " array([0.06367301], dtype=float32),\n",
       " array([0.06367297], dtype=float32),\n",
       " array([0.06367295], dtype=float32),\n",
       " array([0.06367294], dtype=float32),\n",
       " array([0.06367294], dtype=float32),\n",
       " array([0.06367294], dtype=float32),\n",
       " array([0.06367294], dtype=float32),\n",
       " array([0.06367294], dtype=float32),\n",
       " array([0.06367294], dtype=float32),\n",
       " array([0.06367294], dtype=float32),\n",
       " array([0.06367294], dtype=float32),\n",
       " array([0.06367294], dtype=float32),\n",
       " array([0.06367294], dtype=float32),\n",
       " array([0.06367294], dtype=float32),\n",
       " array([0.06367294], dtype=float32),\n",
       " array([0.06367294], dtype=float32),\n",
       " array([0.06367294], dtype=float32),\n",
       " array([0.06367294], dtype=float32),\n",
       " array([0.06367294], dtype=float32),\n",
       " array([0.06367294], dtype=float32),\n",
       " array([0.06367294], dtype=float32),\n",
       " array([0.06367294], dtype=float32),\n",
       " array([0.06367294], dtype=float32),\n",
       " array([0.06367294], dtype=float32),\n",
       " array([0.06367294], dtype=float32),\n",
       " array([0.06367294], dtype=float32),\n",
       " array([0.06367294], dtype=float32),\n",
       " array([0.06367294], dtype=float32),\n",
       " array([0.06367294], dtype=float32),\n",
       " array([0.06367294], dtype=float32),\n",
       " array([0.06367294], dtype=float32),\n",
       " array([0.06367294], dtype=float32),\n",
       " array([0.06367294], dtype=float32),\n",
       " array([0.06367294], dtype=float32),\n",
       " array([0.06367294], dtype=float32),\n",
       " array([0.06367294], dtype=float32),\n",
       " array([0.06367294], dtype=float32),\n",
       " array([0.06367294], dtype=float32),\n",
       " array([0.06367294], dtype=float32),\n",
       " array([0.06367294], dtype=float32),\n",
       " array([0.06367294], dtype=float32),\n",
       " array([0.06367294], dtype=float32),\n",
       " array([0.06367294], dtype=float32),\n",
       " array([0.06367294], dtype=float32),\n",
       " array([0.06367294], dtype=float32),\n",
       " array([0.06367294], dtype=float32),\n",
       " array([0.06367294], dtype=float32),\n",
       " array([0.06367294], dtype=float32),\n",
       " array([0.06367294], dtype=float32),\n",
       " array([0.06367294], dtype=float32),\n",
       " array([0.06367294], dtype=float32),\n",
       " array([0.06367294], dtype=float32),\n",
       " array([0.06367294], dtype=float32),\n",
       " array([0.06367294], dtype=float32),\n",
       " array([0.06367294], dtype=float32),\n",
       " array([0.06367294], dtype=float32),\n",
       " array([0.06367294], dtype=float32),\n",
       " array([0.06367294], dtype=float32),\n",
       " array([0.06367294], dtype=float32),\n",
       " array([0.06367294], dtype=float32),\n",
       " array([0.06367294], dtype=float32),\n",
       " array([0.06367294], dtype=float32),\n",
       " array([0.06367294], dtype=float32),\n",
       " array([0.06367294], dtype=float32),\n",
       " array([0.06367294], dtype=float32),\n",
       " array([0.06367294], dtype=float32),\n",
       " array([0.06367294], dtype=float32),\n",
       " array([0.06367294], dtype=float32),\n",
       " array([0.06367294], dtype=float32),\n",
       " array([0.06367294], dtype=float32),\n",
       " array([0.06367294], dtype=float32),\n",
       " array([0.06367294], dtype=float32),\n",
       " array([0.06367294], dtype=float32),\n",
       " array([0.06367294], dtype=float32),\n",
       " array([0.06367294], dtype=float32),\n",
       " array([0.06367294], dtype=float32),\n",
       " array([0.06367294], dtype=float32),\n",
       " array([0.06367294], dtype=float32),\n",
       " array([0.06367294], dtype=float32),\n",
       " array([0.06367294], dtype=float32),\n",
       " array([0.06367294], dtype=float32),\n",
       " array([0.06367294], dtype=float32),\n",
       " array([0.06367294], dtype=float32),\n",
       " array([0.06367294], dtype=float32),\n",
       " array([0.06367294], dtype=float32),\n",
       " array([0.06367294], dtype=float32),\n",
       " array([0.06367294], dtype=float32),\n",
       " array([0.06367294], dtype=float32),\n",
       " array([0.06367294], dtype=float32),\n",
       " array([0.06367294], dtype=float32),\n",
       " array([0.06367294], dtype=float32),\n",
       " array([0.06367294], dtype=float32),\n",
       " array([0.06367294], dtype=float32),\n",
       " array([0.06367294], dtype=float32),\n",
       " array([0.06367294], dtype=float32),\n",
       " array([0.06367294], dtype=float32),\n",
       " array([0.06367294], dtype=float32),\n",
       " array([0.06367294], dtype=float32),\n",
       " array([0.06367294], dtype=float32),\n",
       " array([0.06367294], dtype=float32),\n",
       " array([0.06367294], dtype=float32),\n",
       " array([0.06367294], dtype=float32),\n",
       " array([0.06367294], dtype=float32),\n",
       " array([0.06367294], dtype=float32),\n",
       " array([0.06367294], dtype=float32),\n",
       " array([0.06367294], dtype=float32),\n",
       " array([0.06367294], dtype=float32),\n",
       " array([0.06367294], dtype=float32),\n",
       " array([0.06367294], dtype=float32),\n",
       " array([0.06367294], dtype=float32),\n",
       " array([0.06367294], dtype=float32),\n",
       " array([0.06367294], dtype=float32),\n",
       " array([0.06367294], dtype=float32),\n",
       " array([0.06367294], dtype=float32),\n",
       " array([0.06367294], dtype=float32),\n",
       " array([0.06367294], dtype=float32),\n",
       " array([0.06367294], dtype=float32),\n",
       " array([0.06367294], dtype=float32),\n",
       " array([0.06367294], dtype=float32),\n",
       " array([0.06367294], dtype=float32),\n",
       " array([0.06367294], dtype=float32),\n",
       " array([0.06367294], dtype=float32),\n",
       " array([0.06367294], dtype=float32),\n",
       " array([0.06367294], dtype=float32),\n",
       " array([0.06367294], dtype=float32),\n",
       " array([0.06367294], dtype=float32),\n",
       " array([0.06367294], dtype=float32),\n",
       " array([0.06367294], dtype=float32),\n",
       " array([0.06367294], dtype=float32),\n",
       " array([0.06367294], dtype=float32),\n",
       " array([0.06367294], dtype=float32),\n",
       " array([0.06367294], dtype=float32),\n",
       " array([0.06367294], dtype=float32),\n",
       " array([0.06367294], dtype=float32),\n",
       " array([0.06367294], dtype=float32),\n",
       " array([0.06367294], dtype=float32),\n",
       " array([0.06367294], dtype=float32),\n",
       " array([0.06367294], dtype=float32),\n",
       " array([0.06367294], dtype=float32),\n",
       " array([0.06367294], dtype=float32),\n",
       " array([0.06367294], dtype=float32),\n",
       " array([0.06367294], dtype=float32),\n",
       " array([0.06367294], dtype=float32),\n",
       " array([0.06367294], dtype=float32),\n",
       " array([0.06367294], dtype=float32),\n",
       " array([0.06367294], dtype=float32),\n",
       " array([0.06367294], dtype=float32),\n",
       " array([0.06367294], dtype=float32),\n",
       " array([0.06367294], dtype=float32),\n",
       " array([0.06367294], dtype=float32),\n",
       " array([0.06367294], dtype=float32),\n",
       " array([0.06367294], dtype=float32),\n",
       " array([0.06367294], dtype=float32),\n",
       " array([0.06367294], dtype=float32),\n",
       " array([0.06367294], dtype=float32),\n",
       " array([0.06367294], dtype=float32),\n",
       " array([0.06367294], dtype=float32),\n",
       " array([0.06367294], dtype=float32),\n",
       " array([0.06367294], dtype=float32),\n",
       " array([0.06367294], dtype=float32),\n",
       " array([0.06367294], dtype=float32),\n",
       " array([0.06367294], dtype=float32),\n",
       " array([0.06367294], dtype=float32),\n",
       " array([0.06367294], dtype=float32),\n",
       " array([0.06367294], dtype=float32),\n",
       " array([0.06367294], dtype=float32),\n",
       " array([0.06367294], dtype=float32),\n",
       " array([0.06367294], dtype=float32),\n",
       " array([0.06367294], dtype=float32),\n",
       " array([0.06367294], dtype=float32),\n",
       " array([0.06367294], dtype=float32),\n",
       " array([0.06367294], dtype=float32),\n",
       " array([0.06367294], dtype=float32),\n",
       " array([0.06367294], dtype=float32),\n",
       " array([0.06367294], dtype=float32),\n",
       " array([0.06367294], dtype=float32),\n",
       " array([0.06367294], dtype=float32),\n",
       " array([0.06367294], dtype=float32),\n",
       " array([0.06367294], dtype=float32),\n",
       " array([0.06367294], dtype=float32),\n",
       " array([0.06367294], dtype=float32),\n",
       " array([0.06367294], dtype=float32),\n",
       " array([0.06367294], dtype=float32),\n",
       " array([0.06367294], dtype=float32),\n",
       " array([0.06367294], dtype=float32),\n",
       " array([0.06367294], dtype=float32),\n",
       " array([0.06367294], dtype=float32),\n",
       " array([0.06367294], dtype=float32),\n",
       " array([0.06367294], dtype=float32),\n",
       " array([0.06367294], dtype=float32),\n",
       " array([0.06367294], dtype=float32),\n",
       " array([0.06367294], dtype=float32),\n",
       " array([0.06367294], dtype=float32),\n",
       " array([0.06367294], dtype=float32),\n",
       " array([0.06367294], dtype=float32),\n",
       " array([0.06367294], dtype=float32),\n",
       " array([0.06367294], dtype=float32),\n",
       " array([0.06367294], dtype=float32),\n",
       " array([0.06367294], dtype=float32),\n",
       " array([0.06367294], dtype=float32),\n",
       " array([0.06367294], dtype=float32),\n",
       " array([0.06367294], dtype=float32),\n",
       " array([0.06367294], dtype=float32),\n",
       " array([0.06367294], dtype=float32),\n",
       " array([0.06367294], dtype=float32),\n",
       " array([0.06367294], dtype=float32),\n",
       " array([0.06367294], dtype=float32),\n",
       " array([0.06367294], dtype=float32),\n",
       " array([0.06367294], dtype=float32),\n",
       " array([0.06367294], dtype=float32),\n",
       " array([0.06367294], dtype=float32),\n",
       " array([0.06367294], dtype=float32),\n",
       " array([0.06367294], dtype=float32),\n",
       " array([0.06367294], dtype=float32),\n",
       " array([0.06367294], dtype=float32),\n",
       " array([0.06367294], dtype=float32),\n",
       " array([0.06367294], dtype=float32),\n",
       " array([0.06367294], dtype=float32),\n",
       " array([0.06367294], dtype=float32),\n",
       " array([0.06367294], dtype=float32),\n",
       " array([0.06367294], dtype=float32),\n",
       " array([0.06367294], dtype=float32),\n",
       " array([0.06367294], dtype=float32),\n",
       " array([0.06367294], dtype=float32),\n",
       " array([0.06367294], dtype=float32),\n",
       " array([0.06367294], dtype=float32),\n",
       " array([0.06367294], dtype=float32)]"
      ]
     },
     "execution_count": 93,
     "metadata": {},
     "output_type": "execute_result"
    }
   ],
   "source": [
    "test_predictions"
   ]
  },
  {
   "cell_type": "code",
   "execution_count": 94,
   "metadata": {},
   "outputs": [
    {
     "data": {
      "text/html": [
       "<div>\n",
       "<style scoped>\n",
       "    .dataframe tbody tr th:only-of-type {\n",
       "        vertical-align: middle;\n",
       "    }\n",
       "\n",
       "    .dataframe tbody tr th {\n",
       "        vertical-align: top;\n",
       "    }\n",
       "\n",
       "    .dataframe thead th {\n",
       "        text-align: right;\n",
       "    }\n",
       "</style>\n",
       "<table border=\"1\" class=\"dataframe\">\n",
       "  <thead>\n",
       "    <tr style=\"text-align: right;\">\n",
       "      <th></th>\n",
       "      <th>Value</th>\n",
       "    </tr>\n",
       "  </thead>\n",
       "  <tbody>\n",
       "    <tr>\n",
       "      <th>86286</th>\n",
       "      <td>-3.0</td>\n",
       "    </tr>\n",
       "    <tr>\n",
       "      <th>86287</th>\n",
       "      <td>0.0</td>\n",
       "    </tr>\n",
       "    <tr>\n",
       "      <th>86288</th>\n",
       "      <td>-2.0</td>\n",
       "    </tr>\n",
       "    <tr>\n",
       "      <th>86289</th>\n",
       "      <td>0.0</td>\n",
       "    </tr>\n",
       "    <tr>\n",
       "      <th>86290</th>\n",
       "      <td>0.0</td>\n",
       "    </tr>\n",
       "  </tbody>\n",
       "</table>\n",
       "</div>"
      ],
      "text/plain": [
       "       Value\n",
       "86286   -3.0\n",
       "86287    0.0\n",
       "86288   -2.0\n",
       "86289    0.0\n",
       "86290    0.0"
      ]
     },
     "execution_count": 94,
     "metadata": {},
     "output_type": "execute_result"
    }
   ],
   "source": [
    "test.head()"
   ]
  },
  {
   "cell_type": "code",
   "execution_count": 95,
   "metadata": {},
   "outputs": [],
   "source": [
    "true_predictions = scaler.inverse_transform(test_predictions)"
   ]
  },
  {
   "cell_type": "code",
   "execution_count": 96,
   "metadata": {},
   "outputs": [
    {
     "name": "stderr",
     "output_type": "stream",
     "text": [
      "<ipython-input-96-920b79c3c314>:1: SettingWithCopyWarning: \n",
      "A value is trying to be set on a copy of a slice from a DataFrame.\n",
      "Try using .loc[row_indexer,col_indexer] = value instead\n",
      "\n",
      "See the caveats in the documentation: https://pandas.pydata.org/pandas-docs/stable/user_guide/indexing.html#returning-a-view-versus-a-copy\n",
      "  test['Predictions'] = true_predictions\n"
     ]
    }
   ],
   "source": [
    "test['Predictions'] = true_predictions"
   ]
  },
  {
   "cell_type": "code",
   "execution_count": 97,
   "metadata": {},
   "outputs": [
    {
     "data": {
      "text/plain": [
       "<AxesSubplot:>"
      ]
     },
     "execution_count": 97,
     "metadata": {},
     "output_type": "execute_result"
    },
    {
     "data": {
      "image/png": "[encoded data removed]",
      "text/plain": [
       "<Figure size 1008x360 with 1 Axes>"
      ]
     },
     "metadata": {
      "needs_background": "light"
     },
     "output_type": "display_data"
    }
   ],
   "source": [
    "test.plot(figsize=(14,5))"
   ]
  },
  {
   "cell_type": "code",
   "execution_count": 99,
   "metadata": {},
   "outputs": [
    {
     "name": "stdout",
     "output_type": "stream",
     "text": [
      "4603.454389805857\n"
     ]
    }
   ],
   "source": [
    "from sklearn.metrics import mean_squared_error\n",
    "from math import sqrt\n",
    "rmse=sqrt(mean_squared_error(test['Value'],test['Predictions']))\n",
    "print(rmse)"
   ]
  }
 ],
 "metadata": {
  "kernelspec": {
   "display_name": "Python 3",
   "language": "python",
   "name": "python3"
  },
  "language_info": {
   "codemirror_mode": {
    "name": "ipython",
    "version": 3
   },
   "file_extension": ".py",
   "mimetype": "text/x-python",
   "name": "python",
   "nbconvert_exporter": "python",
   "pygments_lexer": "ipython3",
   "version": "3.8.8"
  },
  "vscode": {
   "interpreter": {
    "hash": "10d529db020abd4be7eb0c9002c0b72979809e3c143b72a463169de45b84b338"
   }
  }
 },
 "nbformat": 4,
 "nbformat_minor": 2
}
